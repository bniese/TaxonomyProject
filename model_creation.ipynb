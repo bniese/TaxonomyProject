{
 "cells": [
  {
   "cell_type": "code",
   "execution_count": 4,
   "id": "1a86c77e-d60f-4fee-995a-5412cb5c01d0",
   "metadata": {},
   "outputs": [],
   "source": [
    "import tensorflow as tf"
   ]
  },
  {
   "cell_type": "code",
   "execution_count": 1,
   "id": "cdb4c315-ddd2-48af-ab78-7139f13e34f7",
   "metadata": {},
   "outputs": [],
   "source": [
    "import pickle \n",
    "import numpy as np\n",
    "import matplotlib.pyplot as plt\n",
    "import pandas as pd\n",
    "from tensorflow.keras import datasets, layers, models\n",
    "from sklearn.model_selection import train_test_split"
   ]
  },
  {
   "cell_type": "code",
   "execution_count": null,
   "id": "58519d80-21d5-453b-8061-357f8fc7820e",
   "metadata": {},
   "outputs": [],
   "source": []
  },
  {
   "cell_type": "code",
   "execution_count": 2,
   "id": "44cca824-aadd-43cd-a716-ddae2742ee66",
   "metadata": {},
   "outputs": [],
   "source": [
    "file = open(\"preprocessed_data.pkl\", 'rb')\n",
    "df =pd.read_pickle(file)"
   ]
  },
  {
   "cell_type": "code",
   "execution_count": 3,
   "id": "51855782-6fa1-4779-8e2d-8aa2f17d8fa5",
   "metadata": {
    "collapsed": true,
    "jupyter": {
     "outputs_hidden": true
    },
    "tags": []
   },
   "outputs": [
    {
     "data": {
      "text/html": [
       "<div>\n",
       "<style scoped>\n",
       "    .dataframe tbody tr th:only-of-type {\n",
       "        vertical-align: middle;\n",
       "    }\n",
       "\n",
       "    .dataframe tbody tr th {\n",
       "        vertical-align: top;\n",
       "    }\n",
       "\n",
       "    .dataframe thead th {\n",
       "        text-align: right;\n",
       "    }\n",
       "</style>\n",
       "<table border=\"1\" class=\"dataframe\">\n",
       "  <thead>\n",
       "    <tr style=\"text-align: right;\">\n",
       "      <th></th>\n",
       "      <th>Membrane_File</th>\n",
       "      <th>Array</th>\n",
       "      <th>count</th>\n",
       "      <th>class_y</th>\n",
       "      <th>tax_percent_y</th>\n",
       "      <th>shannon_y</th>\n",
       "    </tr>\n",
       "  </thead>\n",
       "  <tbody>\n",
       "    <tr>\n",
       "      <th>0</th>\n",
       "      <td>25_A_0_0_0_NOTEbetacrop__cell_mask.tif</td>\n",
       "      <td>[[5.081872676893776e-08, 4.8460704058174135e-0...</td>\n",
       "      <td>1037</td>\n",
       "      <td>Actinobacteria</td>\n",
       "      <td>84.190809</td>\n",
       "      <td>0.612171</td>\n",
       "    </tr>\n",
       "    <tr>\n",
       "      <th>1</th>\n",
       "      <td>25_A_0_0_0_NOTEbetacrop__cell_mask.tif</td>\n",
       "      <td>[[2.393376562270774e-10, 2.2821606319656274e-1...</td>\n",
       "      <td>1146</td>\n",
       "      <td>Actinobacteria</td>\n",
       "      <td>84.190809</td>\n",
       "      <td>0.612171</td>\n",
       "    </tr>\n",
       "    <tr>\n",
       "      <th>2</th>\n",
       "      <td>25_A_0_0_0_NOTEbetacrop__cell_mask.tif</td>\n",
       "      <td>[[2.54735757976638e-08, 2.365368518778207e-08,...</td>\n",
       "      <td>1084</td>\n",
       "      <td>Actinobacteria</td>\n",
       "      <td>84.190809</td>\n",
       "      <td>0.612171</td>\n",
       "    </tr>\n",
       "    <tr>\n",
       "      <th>3</th>\n",
       "      <td>25_A_0_0_0_NOTEbetacrop__cell_mask.tif</td>\n",
       "      <td>[[1.4798096117908975e-08, 1.3649336389485242e-...</td>\n",
       "      <td>984</td>\n",
       "      <td>Actinobacteria</td>\n",
       "      <td>84.190809</td>\n",
       "      <td>0.612171</td>\n",
       "    </tr>\n",
       "    <tr>\n",
       "      <th>4</th>\n",
       "      <td>25_A_0_0_0_NOTEbetacrop__cell_mask.tif</td>\n",
       "      <td>[[1.923769215792163e-08, 1.783248310583817e-08...</td>\n",
       "      <td>998</td>\n",
       "      <td>Actinobacteria</td>\n",
       "      <td>84.190809</td>\n",
       "      <td>0.612171</td>\n",
       "    </tr>\n",
       "    <tr>\n",
       "      <th>...</th>\n",
       "      <td>...</td>\n",
       "      <td>...</td>\n",
       "      <td>...</td>\n",
       "      <td>...</td>\n",
       "      <td>...</td>\n",
       "      <td>...</td>\n",
       "    </tr>\n",
       "    <tr>\n",
       "      <th>445</th>\n",
       "      <td>1_C_0_0_0_NOTEbetacrop__cell_mask.tif</td>\n",
       "      <td>[[1.6660200937233115e-07, 1.5330284203104835e-...</td>\n",
       "      <td>1462</td>\n",
       "      <td>Bacilli</td>\n",
       "      <td>59.734766</td>\n",
       "      <td>0.920380</td>\n",
       "    </tr>\n",
       "    <tr>\n",
       "      <th>446</th>\n",
       "      <td>1_C_0_0_0_NOTEbetacrop__cell_mask.tif</td>\n",
       "      <td>[[1.714680357669114e-07, 1.5447716442959433e-0...</td>\n",
       "      <td>2410</td>\n",
       "      <td>Bacilli</td>\n",
       "      <td>59.734766</td>\n",
       "      <td>0.920380</td>\n",
       "    </tr>\n",
       "    <tr>\n",
       "      <th>447</th>\n",
       "      <td>1_C_0_0_0_NOTEbetacrop__cell_mask.tif</td>\n",
       "      <td>[[1.600410274475345e-06, 1.536875237196635e-06...</td>\n",
       "      <td>436</td>\n",
       "      <td>Bacilli</td>\n",
       "      <td>59.734766</td>\n",
       "      <td>0.920380</td>\n",
       "    </tr>\n",
       "    <tr>\n",
       "      <th>448</th>\n",
       "      <td>1_C_0_0_0_NOTEbetacrop__cell_mask.tif</td>\n",
       "      <td>[[1.4973179505061335e-07, 1.4227925409700885e-...</td>\n",
       "      <td>677</td>\n",
       "      <td>Bacilli</td>\n",
       "      <td>59.734766</td>\n",
       "      <td>0.920380</td>\n",
       "    </tr>\n",
       "    <tr>\n",
       "      <th>449</th>\n",
       "      <td>1_C_0_0_0_NOTEbetacrop__cell_mask.tif</td>\n",
       "      <td>[[5.123917124523993e-08, 4.795707616639379e-08...</td>\n",
       "      <td>1421</td>\n",
       "      <td>Bacilli</td>\n",
       "      <td>59.734766</td>\n",
       "      <td>0.920380</td>\n",
       "    </tr>\n",
       "  </tbody>\n",
       "</table>\n",
       "<p>420 rows × 6 columns</p>\n",
       "</div>"
      ],
      "text/plain": [
       "                              Membrane_File  \\\n",
       "0    25_A_0_0_0_NOTEbetacrop__cell_mask.tif   \n",
       "1    25_A_0_0_0_NOTEbetacrop__cell_mask.tif   \n",
       "2    25_A_0_0_0_NOTEbetacrop__cell_mask.tif   \n",
       "3    25_A_0_0_0_NOTEbetacrop__cell_mask.tif   \n",
       "4    25_A_0_0_0_NOTEbetacrop__cell_mask.tif   \n",
       "..                                      ...   \n",
       "445   1_C_0_0_0_NOTEbetacrop__cell_mask.tif   \n",
       "446   1_C_0_0_0_NOTEbetacrop__cell_mask.tif   \n",
       "447   1_C_0_0_0_NOTEbetacrop__cell_mask.tif   \n",
       "448   1_C_0_0_0_NOTEbetacrop__cell_mask.tif   \n",
       "449   1_C_0_0_0_NOTEbetacrop__cell_mask.tif   \n",
       "\n",
       "                                                 Array count         class_y  \\\n",
       "0    [[5.081872676893776e-08, 4.8460704058174135e-0...  1037  Actinobacteria   \n",
       "1    [[2.393376562270774e-10, 2.2821606319656274e-1...  1146  Actinobacteria   \n",
       "2    [[2.54735757976638e-08, 2.365368518778207e-08,...  1084  Actinobacteria   \n",
       "3    [[1.4798096117908975e-08, 1.3649336389485242e-...   984  Actinobacteria   \n",
       "4    [[1.923769215792163e-08, 1.783248310583817e-08...   998  Actinobacteria   \n",
       "..                                                 ...   ...             ...   \n",
       "445  [[1.6660200937233115e-07, 1.5330284203104835e-...  1462         Bacilli   \n",
       "446  [[1.714680357669114e-07, 1.5447716442959433e-0...  2410         Bacilli   \n",
       "447  [[1.600410274475345e-06, 1.536875237196635e-06...   436         Bacilli   \n",
       "448  [[1.4973179505061335e-07, 1.4227925409700885e-...   677         Bacilli   \n",
       "449  [[5.123917124523993e-08, 4.795707616639379e-08...  1421         Bacilli   \n",
       "\n",
       "     tax_percent_y  shannon_y  \n",
       "0        84.190809   0.612171  \n",
       "1        84.190809   0.612171  \n",
       "2        84.190809   0.612171  \n",
       "3        84.190809   0.612171  \n",
       "4        84.190809   0.612171  \n",
       "..             ...        ...  \n",
       "445      59.734766   0.920380  \n",
       "446      59.734766   0.920380  \n",
       "447      59.734766   0.920380  \n",
       "448      59.734766   0.920380  \n",
       "449      59.734766   0.920380  \n",
       "\n",
       "[420 rows x 6 columns]"
      ]
     },
     "execution_count": 3,
     "metadata": {},
     "output_type": "execute_result"
    }
   ],
   "source": [
    "df"
   ]
  },
  {
   "cell_type": "code",
   "execution_count": 5,
   "id": "6c28dd06-10dd-4053-b95c-6e39b8a1cd7b",
   "metadata": {},
   "outputs": [],
   "source": [
    "class_dict = {\"Bacilli\": 2,\n",
    "              \"Actinobacteria\":0,\n",
    "              \"Alphaproteobacteria\": 1,\n",
    "              \"Gammaproteobacteria\": 3}"
   ]
  },
  {
   "cell_type": "code",
   "execution_count": 6,
   "id": "769319f5-f82b-4c64-ab9e-537a8c5d15e3",
   "metadata": {},
   "outputs": [
    {
     "data": {
      "text/plain": [
       "array(['Actinobacteria', 'Alphaproteobacteria', 'Bacilli',\n",
       "       'Gammaproteobacteria'], dtype=object)"
      ]
     },
     "execution_count": 6,
     "metadata": {},
     "output_type": "execute_result"
    }
   ],
   "source": [
    "pd.unique(df[\"class_y\"])"
   ]
  },
  {
   "cell_type": "code",
   "execution_count": 7,
   "id": "0f47fba1-aa7f-4814-8e70-ad8748e819e4",
   "metadata": {},
   "outputs": [],
   "source": [
    "df[\"class_label\"] = df.apply(lambda x: class_dict[x[\"class_y\"]],axis = 1)"
   ]
  },
  {
   "cell_type": "code",
   "execution_count": 8,
   "id": "c7f0e39f-95b3-4293-91ba-499c115146c3",
   "metadata": {},
   "outputs": [],
   "source": [
    "model = tf.keras.Sequential([\n",
    "    tf.keras.layers.Flatten(input_shape=(200, 200, 1)),\n",
    "    tf.keras.layers.Dense(256, activation = \"relu\"),\n",
    "    tf.keras.layers.Dense(128, activation = \"relu\"),\n",
    "    tf.keras.layers.Dense(64, activation = \"relu\"),\n",
    "    tf.keras.layers.Dense(32, activation = \"relu\"),\n",
    "    tf.keras.layers.Dense(16, activation = \"relu\"),\n",
    "    tf.keras.layers.Dense(1)\n",
    "])"
   ]
  },
  {
   "cell_type": "code",
   "execution_count": null,
   "id": "3c0ab29c-cfde-45e0-82be-2898711459b2",
   "metadata": {},
   "outputs": [],
   "source": []
  },
  {
   "cell_type": "code",
   "execution_count": 9,
   "id": "af07b067-4392-42ab-9ca7-49dc7334b16c",
   "metadata": {},
   "outputs": [
    {
     "name": "stdout",
     "output_type": "stream",
     "text": [
      "Model: \"sequential\"\n",
      "_________________________________________________________________\n",
      " Layer (type)                Output Shape              Param #   \n",
      "=================================================================\n",
      " flatten (Flatten)           (None, 40000)             0         \n",
      "                                                                 \n",
      " dense (Dense)               (None, 256)               10240256  \n",
      "                                                                 \n",
      " dense_1 (Dense)             (None, 128)               32896     \n",
      "                                                                 \n",
      " dense_2 (Dense)             (None, 64)                8256      \n",
      "                                                                 \n",
      " dense_3 (Dense)             (None, 32)                2080      \n",
      "                                                                 \n",
      " dense_4 (Dense)             (None, 16)                528       \n",
      "                                                                 \n",
      " dense_5 (Dense)             (None, 1)                 17        \n",
      "                                                                 \n",
      "=================================================================\n",
      "Total params: 10,284,033\n",
      "Trainable params: 10,284,033\n",
      "Non-trainable params: 0\n",
      "_________________________________________________________________\n"
     ]
    }
   ],
   "source": [
    "model.summary()"
   ]
  },
  {
   "cell_type": "code",
   "execution_count": 50,
   "id": "427b02ed-d9c8-4ee3-a3cf-b4973320d6d9",
   "metadata": {},
   "outputs": [],
   "source": [
    "cnn_tax_model = models.Sequential()\n",
    "cnn_tax_model.add(tf.keras.layers.Conv2D(32, (3, 3), activation='relu', input_shape=(200, 200, 1)))\n",
    "cnn_tax_model.add(tf.keras.layers.MaxPooling2D((2, 2)))\n",
    "cnn_tax_model.add(tf.keras.layers.Conv2D(64, (3, 3), activation='relu'))\n",
    "cnn_tax_model.add(tf.keras.layers.MaxPooling2D((2, 2)))\n",
    "cnn_tax_model.add(tf.keras.layers.Conv2D(64, (3, 3), activation='relu'))\n",
    "cnn_tax_model.add(layers.Flatten())\n",
    "cnn_tax_model.add(layers.Dense(64, activation='relu'))\n",
    "cnn_tax_model.add(layers.Dense(1))"
   ]
  },
  {
   "cell_type": "code",
   "execution_count": 51,
   "id": "41420247-c77c-4332-bcc2-61e5ca8d74b9",
   "metadata": {},
   "outputs": [
    {
     "name": "stdout",
     "output_type": "stream",
     "text": [
      "Model: \"sequential_6\"\n",
      "_________________________________________________________________\n",
      " Layer (type)                Output Shape              Param #   \n",
      "=================================================================\n",
      " conv2d_15 (Conv2D)          (None, 198, 198, 32)      320       \n",
      "                                                                 \n",
      " max_pooling2d_10 (MaxPoolin  (None, 99, 99, 32)       0         \n",
      " g2D)                                                            \n",
      "                                                                 \n",
      " conv2d_16 (Conv2D)          (None, 97, 97, 64)        18496     \n",
      "                                                                 \n",
      " max_pooling2d_11 (MaxPoolin  (None, 48, 48, 64)       0         \n",
      " g2D)                                                            \n",
      "                                                                 \n",
      " conv2d_17 (Conv2D)          (None, 46, 46, 64)        36928     \n",
      "                                                                 \n",
      " flatten_6 (Flatten)         (None, 135424)            0         \n",
      "                                                                 \n",
      " dense_16 (Dense)            (None, 64)                8667200   \n",
      "                                                                 \n",
      " dense_17 (Dense)            (None, 1)                 65        \n",
      "                                                                 \n",
      "=================================================================\n",
      "Total params: 8,723,009\n",
      "Trainable params: 8,723,009\n",
      "Non-trainable params: 0\n",
      "_________________________________________________________________\n"
     ]
    }
   ],
   "source": [
    "cnn_tax_model.summary()"
   ]
  },
  {
   "cell_type": "code",
   "execution_count": 23,
   "id": "a3544319-74db-4e99-8cbd-e859378a52e4",
   "metadata": {},
   "outputs": [],
   "source": [
    "cnn_model = models.Sequential()\n",
    "cnn_model.add(tf.keras.layers.Conv2D(32, (3, 3), activation='relu', input_shape=(200, 200, 1)))\n",
    "cnn_model.add(tf.keras.layers.MaxPooling2D((2, 2)))\n",
    "cnn_model.add(tf.keras.layers.Conv2D(64, (3, 3), activation='relu'))\n",
    "cnn_model.add(tf.keras.layers.MaxPooling2D((2, 2)))\n",
    "cnn_model.add(tf.keras.layers.Conv2D(64, (3, 3), activation='relu'))\n",
    "cnn_model.add(layers.Flatten())\n",
    "cnn_model.add(layers.Dense(64, activation='relu'))\n",
    "cnn_model.add(layers.Dense(4))"
   ]
  },
  {
   "cell_type": "code",
   "execution_count": 24,
   "id": "d130fbdc-02f6-4685-95de-d38db32b838f",
   "metadata": {},
   "outputs": [
    {
     "name": "stdout",
     "output_type": "stream",
     "text": [
      "Model: \"sequential_3\"\n",
      "_________________________________________________________________\n",
      " Layer (type)                Output Shape              Param #   \n",
      "=================================================================\n",
      " conv2d_6 (Conv2D)           (None, 198, 198, 32)      320       \n",
      "                                                                 \n",
      " max_pooling2d_4 (MaxPooling  (None, 99, 99, 32)       0         \n",
      " 2D)                                                             \n",
      "                                                                 \n",
      " conv2d_7 (Conv2D)           (None, 97, 97, 64)        18496     \n",
      "                                                                 \n",
      " max_pooling2d_5 (MaxPooling  (None, 48, 48, 64)       0         \n",
      " 2D)                                                             \n",
      "                                                                 \n",
      " conv2d_8 (Conv2D)           (None, 46, 46, 64)        36928     \n",
      "                                                                 \n",
      " flatten_3 (Flatten)         (None, 135424)            0         \n",
      "                                                                 \n",
      " dense_10 (Dense)            (None, 64)                8667200   \n",
      "                                                                 \n",
      " dense_11 (Dense)            (None, 4)                 260       \n",
      "                                                                 \n",
      "=================================================================\n",
      "Total params: 8,723,204\n",
      "Trainable params: 8,723,204\n",
      "Non-trainable params: 0\n",
      "_________________________________________________________________\n"
     ]
    }
   ],
   "source": [
    "cnn_model.summary()"
   ]
  },
  {
   "cell_type": "code",
   "execution_count": 15,
   "id": "bc49eb85-58e3-4a21-9544-de85a6190fc1",
   "metadata": {},
   "outputs": [],
   "source": [
    "arrays = df[\"Array\"]\n",
    "target = df[\"shannon_y\"]\n",
    "classes = df[\"class_label\"]"
   ]
  },
  {
   "cell_type": "code",
   "execution_count": 16,
   "id": "ad76df5f-956e-47da-9f36-d867a98d354e",
   "metadata": {},
   "outputs": [],
   "source": [
    "dataset = []\n",
    "for i in arrays:\n",
    "    temp = i[:,:]\n",
    "    norm = (temp-np.min(temp))/(np.max(temp)-np.min(temp))\n",
    "    dataset.append(norm)"
   ]
  },
  {
   "cell_type": "code",
   "execution_count": 17,
   "id": "1ce25a50-5b76-45b6-95fc-3db76ed07d3a",
   "metadata": {},
   "outputs": [],
   "source": [
    "dataset = tf.expand_dims(tf.convert_to_tensor(dataset),axis = -1).numpy()"
   ]
  },
  {
   "cell_type": "code",
   "execution_count": 18,
   "id": "c4132deb-7a78-4f97-888a-65a07b57605b",
   "metadata": {},
   "outputs": [
    {
     "data": {
      "text/plain": [
       "(420, 200, 200, 1)"
      ]
     },
     "execution_count": 18,
     "metadata": {},
     "output_type": "execute_result"
    }
   ],
   "source": [
    "dataset.shape"
   ]
  },
  {
   "cell_type": "code",
   "execution_count": 35,
   "id": "ecbd7ed2-a81e-4ca6-bae2-afbc293d06de",
   "metadata": {},
   "outputs": [],
   "source": [
    "X_train, X_test, y_train, y_test = train_test_split(dataset, \n",
    "                                                    target, \n",
    "                                                    random_state = 0,\n",
    "                                                    test_size=0.3)"
   ]
  },
  {
   "cell_type": "code",
   "execution_count": 20,
   "id": "61646322-29f6-4847-aa84-6ab56acb0d87",
   "metadata": {
    "scrolled": true
   },
   "outputs": [
    {
     "name": "stdout",
     "output_type": "stream",
     "text": [
      "Epoch 1/100\n",
      "30/30 [==============================] - 1s 37ms/step - loss: 0.3804 - mse: 0.3804 - val_loss: 0.1598 - val_mse: 0.1598\n",
      "Epoch 2/100\n",
      "30/30 [==============================] - 1s 32ms/step - loss: 0.1517 - mse: 0.1517 - val_loss: 0.1006 - val_mse: 0.1006\n",
      "Epoch 3/100\n",
      "30/30 [==============================] - 1s 34ms/step - loss: 0.1665 - mse: 0.1665 - val_loss: 0.1717 - val_mse: 0.1717\n",
      "Epoch 4/100\n",
      "30/30 [==============================] - 1s 32ms/step - loss: 0.1264 - mse: 0.1264 - val_loss: 0.1372 - val_mse: 0.1372\n",
      "Epoch 5/100\n",
      "30/30 [==============================] - 1s 33ms/step - loss: 0.1152 - mse: 0.1152 - val_loss: 0.1237 - val_mse: 0.1237\n",
      "Epoch 6/100\n",
      "30/30 [==============================] - 1s 33ms/step - loss: 0.0999 - mse: 0.0999 - val_loss: 0.0735 - val_mse: 0.0735\n",
      "Epoch 7/100\n",
      "30/30 [==============================] - 1s 34ms/step - loss: 0.0827 - mse: 0.0827 - val_loss: 0.1347 - val_mse: 0.1347\n",
      "Epoch 8/100\n",
      "30/30 [==============================] - 1s 34ms/step - loss: 0.0867 - mse: 0.0867 - val_loss: 0.0913 - val_mse: 0.0913\n",
      "Epoch 9/100\n",
      "30/30 [==============================] - 1s 33ms/step - loss: 0.0877 - mse: 0.0877 - val_loss: 0.0630 - val_mse: 0.0630\n",
      "Epoch 10/100\n",
      "30/30 [==============================] - 1s 33ms/step - loss: 0.0757 - mse: 0.0757 - val_loss: 0.0742 - val_mse: 0.0742\n",
      "Epoch 11/100\n",
      "30/30 [==============================] - 1s 32ms/step - loss: 0.0677 - mse: 0.0677 - val_loss: 0.0620 - val_mse: 0.0620\n",
      "Epoch 12/100\n",
      "30/30 [==============================] - 1s 33ms/step - loss: 0.0689 - mse: 0.0689 - val_loss: 0.0587 - val_mse: 0.0587\n",
      "Epoch 13/100\n",
      "30/30 [==============================] - 1s 33ms/step - loss: 0.0657 - mse: 0.0657 - val_loss: 0.0749 - val_mse: 0.0749\n",
      "Epoch 14/100\n",
      "30/30 [==============================] - 1s 33ms/step - loss: 0.0787 - mse: 0.0787 - val_loss: 0.0836 - val_mse: 0.0836\n",
      "Epoch 15/100\n",
      "30/30 [==============================] - 1s 33ms/step - loss: 0.0599 - mse: 0.0599 - val_loss: 0.0680 - val_mse: 0.0680\n",
      "Epoch 16/100\n",
      "30/30 [==============================] - 1s 32ms/step - loss: 0.0608 - mse: 0.0608 - val_loss: 0.0565 - val_mse: 0.0565\n",
      "Epoch 17/100\n",
      "30/30 [==============================] - 1s 32ms/step - loss: 0.0598 - mse: 0.0598 - val_loss: 0.0704 - val_mse: 0.0704\n",
      "Epoch 18/100\n",
      "30/30 [==============================] - 1s 32ms/step - loss: 0.0616 - mse: 0.0616 - val_loss: 0.0569 - val_mse: 0.0569\n",
      "Epoch 19/100\n",
      "30/30 [==============================] - 1s 32ms/step - loss: 0.0565 - mse: 0.0565 - val_loss: 0.0560 - val_mse: 0.0560\n",
      "Epoch 20/100\n",
      "30/30 [==============================] - 1s 33ms/step - loss: 0.0515 - mse: 0.0515 - val_loss: 0.0548 - val_mse: 0.0548\n",
      "Epoch 21/100\n",
      "30/30 [==============================] - 1s 34ms/step - loss: 0.0508 - mse: 0.0508 - val_loss: 0.0519 - val_mse: 0.0519\n",
      "Epoch 22/100\n",
      "30/30 [==============================] - 1s 34ms/step - loss: 0.0479 - mse: 0.0479 - val_loss: 0.0803 - val_mse: 0.0803\n",
      "Epoch 23/100\n",
      "30/30 [==============================] - 1s 34ms/step - loss: 0.0478 - mse: 0.0478 - val_loss: 0.0550 - val_mse: 0.0550\n",
      "Epoch 24/100\n",
      "30/30 [==============================] - 1s 33ms/step - loss: 0.0474 - mse: 0.0474 - val_loss: 0.0533 - val_mse: 0.0533\n",
      "Epoch 25/100\n",
      "30/30 [==============================] - 1s 33ms/step - loss: 0.0505 - mse: 0.0505 - val_loss: 0.0537 - val_mse: 0.0537\n",
      "Epoch 26/100\n",
      "30/30 [==============================] - 1s 33ms/step - loss: 0.0478 - mse: 0.0478 - val_loss: 0.0532 - val_mse: 0.0532\n",
      "Epoch 27/100\n",
      "30/30 [==============================] - 1s 33ms/step - loss: 0.0438 - mse: 0.0438 - val_loss: 0.0772 - val_mse: 0.0772\n",
      "Epoch 28/100\n",
      "30/30 [==============================] - 1s 34ms/step - loss: 0.0511 - mse: 0.0511 - val_loss: 0.0471 - val_mse: 0.0471\n",
      "Epoch 29/100\n",
      "30/30 [==============================] - 1s 33ms/step - loss: 0.0380 - mse: 0.0380 - val_loss: 0.0540 - val_mse: 0.0540\n",
      "Epoch 30/100\n",
      "30/30 [==============================] - 1s 33ms/step - loss: 0.0348 - mse: 0.0348 - val_loss: 0.0449 - val_mse: 0.0449\n",
      "Epoch 31/100\n",
      "30/30 [==============================] - 1s 33ms/step - loss: 0.0330 - mse: 0.0330 - val_loss: 0.0528 - val_mse: 0.0528\n",
      "Epoch 32/100\n",
      "30/30 [==============================] - 1s 32ms/step - loss: 0.0591 - mse: 0.0591 - val_loss: 0.0475 - val_mse: 0.0475\n",
      "Epoch 33/100\n",
      "30/30 [==============================] - 1s 32ms/step - loss: 0.0440 - mse: 0.0440 - val_loss: 0.0545 - val_mse: 0.0545\n",
      "Epoch 34/100\n",
      "30/30 [==============================] - 1s 32ms/step - loss: 0.0455 - mse: 0.0455 - val_loss: 0.0421 - val_mse: 0.0421\n",
      "Epoch 35/100\n",
      "30/30 [==============================] - 1s 32ms/step - loss: 0.0370 - mse: 0.0370 - val_loss: 0.0500 - val_mse: 0.0500\n",
      "Epoch 36/100\n",
      "30/30 [==============================] - 1s 32ms/step - loss: 0.0370 - mse: 0.0370 - val_loss: 0.0487 - val_mse: 0.0487\n",
      "Epoch 37/100\n",
      "30/30 [==============================] - 1s 32ms/step - loss: 0.0346 - mse: 0.0346 - val_loss: 0.0488 - val_mse: 0.0488\n",
      "Epoch 38/100\n",
      "30/30 [==============================] - 1s 33ms/step - loss: 0.0307 - mse: 0.0307 - val_loss: 0.0585 - val_mse: 0.0585\n",
      "Epoch 39/100\n",
      "30/30 [==============================] - 1s 33ms/step - loss: 0.0287 - mse: 0.0287 - val_loss: 0.0435 - val_mse: 0.0435\n",
      "Epoch 40/100\n",
      "30/30 [==============================] - 1s 33ms/step - loss: 0.0448 - mse: 0.0448 - val_loss: 0.0820 - val_mse: 0.0820\n",
      "Epoch 41/100\n",
      "30/30 [==============================] - 1s 33ms/step - loss: 0.0405 - mse: 0.0405 - val_loss: 0.0463 - val_mse: 0.0463\n",
      "Epoch 42/100\n",
      "30/30 [==============================] - 1s 32ms/step - loss: 0.0357 - mse: 0.0357 - val_loss: 0.0417 - val_mse: 0.0417\n",
      "Epoch 43/100\n",
      "30/30 [==============================] - 1s 32ms/step - loss: 0.0266 - mse: 0.0266 - val_loss: 0.0394 - val_mse: 0.0394\n",
      "Epoch 44/100\n",
      "30/30 [==============================] - 1s 32ms/step - loss: 0.0241 - mse: 0.0241 - val_loss: 0.0364 - val_mse: 0.0364\n",
      "Epoch 45/100\n",
      "30/30 [==============================] - 1s 32ms/step - loss: 0.0269 - mse: 0.0269 - val_loss: 0.0457 - val_mse: 0.0457\n",
      "Epoch 46/100\n",
      "30/30 [==============================] - 1s 32ms/step - loss: 0.0402 - mse: 0.0402 - val_loss: 0.0448 - val_mse: 0.0448\n",
      "Epoch 47/100\n",
      "30/30 [==============================] - 1s 33ms/step - loss: 0.0268 - mse: 0.0268 - val_loss: 0.0379 - val_mse: 0.0379\n",
      "Epoch 48/100\n",
      "30/30 [==============================] - 1s 33ms/step - loss: 0.0213 - mse: 0.0213 - val_loss: 0.0392 - val_mse: 0.0392\n",
      "Epoch 49/100\n",
      "30/30 [==============================] - 1s 33ms/step - loss: 0.0195 - mse: 0.0195 - val_loss: 0.0521 - val_mse: 0.0521\n",
      "Epoch 50/100\n",
      "30/30 [==============================] - 1s 33ms/step - loss: 0.0212 - mse: 0.0212 - val_loss: 0.0356 - val_mse: 0.0356\n",
      "Epoch 51/100\n",
      "30/30 [==============================] - 1s 33ms/step - loss: 0.0179 - mse: 0.0179 - val_loss: 0.0356 - val_mse: 0.0356\n",
      "Epoch 52/100\n",
      "30/30 [==============================] - 1s 32ms/step - loss: 0.0229 - mse: 0.0229 - val_loss: 0.0368 - val_mse: 0.0368\n",
      "Epoch 53/100\n",
      "30/30 [==============================] - 1s 33ms/step - loss: 0.0216 - mse: 0.0216 - val_loss: 0.0331 - val_mse: 0.0331\n",
      "Epoch 54/100\n",
      "30/30 [==============================] - 1s 34ms/step - loss: 0.0184 - mse: 0.0184 - val_loss: 0.0426 - val_mse: 0.0426\n",
      "Epoch 55/100\n",
      "30/30 [==============================] - 1s 33ms/step - loss: 0.0211 - mse: 0.0211 - val_loss: 0.0331 - val_mse: 0.0331\n",
      "Epoch 56/100\n",
      "30/30 [==============================] - 1s 33ms/step - loss: 0.0200 - mse: 0.0200 - val_loss: 0.0311 - val_mse: 0.0311\n",
      "Epoch 57/100\n",
      "30/30 [==============================] - 1s 32ms/step - loss: 0.0224 - mse: 0.0224 - val_loss: 0.0387 - val_mse: 0.0387\n",
      "Epoch 58/100\n",
      "30/30 [==============================] - 1s 32ms/step - loss: 0.0169 - mse: 0.0169 - val_loss: 0.0415 - val_mse: 0.0415\n",
      "Epoch 59/100\n",
      "30/30 [==============================] - 1s 32ms/step - loss: 0.0156 - mse: 0.0156 - val_loss: 0.0328 - val_mse: 0.0328\n",
      "Epoch 60/100\n",
      "30/30 [==============================] - 1s 32ms/step - loss: 0.0158 - mse: 0.0158 - val_loss: 0.0356 - val_mse: 0.0356\n",
      "Epoch 61/100\n",
      "30/30 [==============================] - 1s 32ms/step - loss: 0.0171 - mse: 0.0171 - val_loss: 0.0324 - val_mse: 0.0324\n",
      "Epoch 62/100\n",
      "30/30 [==============================] - 1s 33ms/step - loss: 0.0149 - mse: 0.0149 - val_loss: 0.0294 - val_mse: 0.0294\n",
      "Epoch 63/100\n",
      "30/30 [==============================] - 1s 32ms/step - loss: 0.0137 - mse: 0.0137 - val_loss: 0.0340 - val_mse: 0.0340\n",
      "Epoch 64/100\n",
      "30/30 [==============================] - 1s 32ms/step - loss: 0.0170 - mse: 0.0170 - val_loss: 0.0505 - val_mse: 0.0505\n",
      "Epoch 65/100\n",
      "30/30 [==============================] - 1s 33ms/step - loss: 0.0154 - mse: 0.0154 - val_loss: 0.0305 - val_mse: 0.0305\n",
      "Epoch 66/100\n",
      "30/30 [==============================] - 1s 33ms/step - loss: 0.0158 - mse: 0.0158 - val_loss: 0.0345 - val_mse: 0.0345\n",
      "Epoch 67/100\n",
      "30/30 [==============================] - 1s 34ms/step - loss: 0.0157 - mse: 0.0157 - val_loss: 0.0336 - val_mse: 0.0336\n",
      "Epoch 68/100\n",
      "30/30 [==============================] - 1s 32ms/step - loss: 0.0178 - mse: 0.0178 - val_loss: 0.0268 - val_mse: 0.0268\n",
      "Epoch 69/100\n",
      "30/30 [==============================] - 1s 33ms/step - loss: 0.0197 - mse: 0.0197 - val_loss: 0.0490 - val_mse: 0.0490\n",
      "Epoch 70/100\n",
      "30/30 [==============================] - 1s 33ms/step - loss: 0.0294 - mse: 0.0294 - val_loss: 0.0347 - val_mse: 0.0347\n",
      "Epoch 71/100\n",
      "30/30 [==============================] - 1s 34ms/step - loss: 0.0271 - mse: 0.0271 - val_loss: 0.0380 - val_mse: 0.0380\n",
      "Epoch 72/100\n",
      "30/30 [==============================] - 1s 33ms/step - loss: 0.0219 - mse: 0.0219 - val_loss: 0.0480 - val_mse: 0.0480\n",
      "Epoch 73/100\n",
      "30/30 [==============================] - 1s 33ms/step - loss: 0.0482 - mse: 0.0482 - val_loss: 0.0400 - val_mse: 0.0400\n",
      "Epoch 74/100\n",
      "30/30 [==============================] - 1s 32ms/step - loss: 0.0248 - mse: 0.0248 - val_loss: 0.0354 - val_mse: 0.0354\n",
      "Epoch 75/100\n",
      "30/30 [==============================] - 1s 33ms/step - loss: 0.0184 - mse: 0.0184 - val_loss: 0.0421 - val_mse: 0.0421\n",
      "Epoch 76/100\n",
      "30/30 [==============================] - 1s 33ms/step - loss: 0.0252 - mse: 0.0252 - val_loss: 0.0402 - val_mse: 0.0402\n",
      "Epoch 77/100\n",
      "30/30 [==============================] - 1s 34ms/step - loss: 0.0147 - mse: 0.0147 - val_loss: 0.0454 - val_mse: 0.0454\n",
      "Epoch 78/100\n",
      "30/30 [==============================] - 1s 34ms/step - loss: 0.0156 - mse: 0.0156 - val_loss: 0.0300 - val_mse: 0.0300\n",
      "Epoch 79/100\n",
      "30/30 [==============================] - 1s 33ms/step - loss: 0.0106 - mse: 0.0106 - val_loss: 0.0306 - val_mse: 0.0306\n",
      "Epoch 80/100\n",
      "30/30 [==============================] - 1s 34ms/step - loss: 0.0128 - mse: 0.0128 - val_loss: 0.0361 - val_mse: 0.0361\n",
      "Epoch 81/100\n",
      "30/30 [==============================] - 1s 32ms/step - loss: 0.0186 - mse: 0.0186 - val_loss: 0.0468 - val_mse: 0.0468\n",
      "Epoch 82/100\n",
      "30/30 [==============================] - 1s 32ms/step - loss: 0.0229 - mse: 0.0229 - val_loss: 0.0343 - val_mse: 0.0343\n",
      "Epoch 83/100\n",
      "30/30 [==============================] - 1s 32ms/step - loss: 0.0127 - mse: 0.0127 - val_loss: 0.0333 - val_mse: 0.0333\n",
      "Epoch 84/100\n",
      "30/30 [==============================] - 1s 33ms/step - loss: 0.0158 - mse: 0.0158 - val_loss: 0.0354 - val_mse: 0.0354\n",
      "Epoch 85/100\n",
      "30/30 [==============================] - 1s 33ms/step - loss: 0.0134 - mse: 0.0134 - val_loss: 0.0381 - val_mse: 0.0381\n",
      "Epoch 86/100\n",
      "30/30 [==============================] - 1s 32ms/step - loss: 0.0117 - mse: 0.0117 - val_loss: 0.0295 - val_mse: 0.0295\n",
      "Epoch 87/100\n",
      "30/30 [==============================] - 1s 32ms/step - loss: 0.0126 - mse: 0.0126 - val_loss: 0.0334 - val_mse: 0.0334\n",
      "Epoch 88/100\n",
      "30/30 [==============================] - 1s 33ms/step - loss: 0.0114 - mse: 0.0114 - val_loss: 0.0303 - val_mse: 0.0303\n",
      "Epoch 89/100\n",
      "30/30 [==============================] - 1s 32ms/step - loss: 0.0136 - mse: 0.0136 - val_loss: 0.0323 - val_mse: 0.0323\n",
      "Epoch 90/100\n",
      "30/30 [==============================] - 1s 32ms/step - loss: 0.0115 - mse: 0.0115 - val_loss: 0.0475 - val_mse: 0.0475\n",
      "Epoch 91/100\n",
      "30/30 [==============================] - 1s 32ms/step - loss: 0.0125 - mse: 0.0125 - val_loss: 0.0311 - val_mse: 0.0311\n",
      "Epoch 92/100\n",
      "30/30 [==============================] - 1s 33ms/step - loss: 0.0094 - mse: 0.0094 - val_loss: 0.0241 - val_mse: 0.0241\n",
      "Epoch 93/100\n",
      "30/30 [==============================] - 1s 32ms/step - loss: 0.0088 - mse: 0.0088 - val_loss: 0.0261 - val_mse: 0.0261\n",
      "Epoch 94/100\n",
      "30/30 [==============================] - 1s 32ms/step - loss: 0.0082 - mse: 0.0082 - val_loss: 0.0259 - val_mse: 0.0259\n",
      "Epoch 95/100\n",
      "30/30 [==============================] - 1s 32ms/step - loss: 0.0086 - mse: 0.0086 - val_loss: 0.0334 - val_mse: 0.0334\n",
      "Epoch 96/100\n",
      "30/30 [==============================] - 1s 32ms/step - loss: 0.0096 - mse: 0.0096 - val_loss: 0.0311 - val_mse: 0.0311\n",
      "Epoch 97/100\n",
      "30/30 [==============================] - 1s 32ms/step - loss: 0.0113 - mse: 0.0113 - val_loss: 0.0273 - val_mse: 0.0273\n",
      "Epoch 98/100\n",
      "30/30 [==============================] - 1s 33ms/step - loss: 0.0074 - mse: 0.0074 - val_loss: 0.0364 - val_mse: 0.0364\n",
      "Epoch 99/100\n",
      "30/30 [==============================] - 1s 33ms/step - loss: 0.0148 - mse: 0.0148 - val_loss: 0.0372 - val_mse: 0.0372\n",
      "Epoch 100/100\n",
      "30/30 [==============================] - 1s 32ms/step - loss: 0.0137 - mse: 0.0137 - val_loss: 0.0382 - val_mse: 0.0382\n"
     ]
    }
   ],
   "source": [
    "model.compile(optimizer='adam',\n",
    "              loss=\"mse\",\n",
    "             metrics =[\"mse\"])\n",
    "\n",
    "history = model.fit(X_train, y_train, epochs=100, batch_size = 10,\n",
    "                    validation_data=(X_test, y_test))"
   ]
  },
  {
   "cell_type": "code",
   "execution_count": 53,
   "id": "4fed7096-7a0c-4e13-ad09-b6f6870586dc",
   "metadata": {},
   "outputs": [
    {
     "name": "stdout",
     "output_type": "stream",
     "text": [
      "Epoch 1/3\n",
      "30/30 [==============================] - 7s 211ms/step - loss: 0.0370 - mse: 0.0370 - val_loss: 0.0402 - val_mse: 0.0402\n",
      "Epoch 2/3\n",
      "30/30 [==============================] - 6s 207ms/step - loss: 0.0277 - mse: 0.0277 - val_loss: 0.0373 - val_mse: 0.0373\n",
      "Epoch 3/3\n",
      "30/30 [==============================] - 6s 210ms/step - loss: 0.0233 - mse: 0.0233 - val_loss: 0.0372 - val_mse: 0.0372\n"
     ]
    }
   ],
   "source": [
    "cnn_tax_model.compile(optimizer='adam',\n",
    "              loss=\"mse\",\n",
    "             metrics =[\"mse\"])\n",
    "\n",
    "cnn_tax_history = cnn_tax_model.fit(X_train, y_train, epochs=3, batch_size = 10,\n",
    "                    validation_data=(X_test, y_test))"
   ]
  },
  {
   "cell_type": "code",
   "execution_count": 19,
   "id": "d033b321-1eff-4116-b5b7-11535900e2b8",
   "metadata": {},
   "outputs": [
    {
     "name": "stdout",
     "output_type": "stream",
     "text": [
      "10/10 [==============================] - 0s 26ms/step\n"
     ]
    }
   ],
   "source": [
    "y_pred_train = model.predict(X_train)"
   ]
  },
  {
   "cell_type": "code",
   "execution_count": 20,
   "id": "e38c95ac-7b1c-4567-961e-392744ca12fc",
   "metadata": {},
   "outputs": [
    {
     "name": "stdout",
     "output_type": "stream",
     "text": [
      "4/4 [==============================] - 0s 16ms/step\n"
     ]
    }
   ],
   "source": [
    "y_pred_test = model.predict(X_test)"
   ]
  },
  {
   "cell_type": "code",
   "execution_count": 24,
   "id": "c3d2c1ce-92f9-42f3-a75f-cfd177078448",
   "metadata": {},
   "outputs": [
    {
     "data": {
      "text/plain": [
       "[<matplotlib.lines.Line2D at 0x1e43b450f40>]"
      ]
     },
     "execution_count": 24,
     "metadata": {},
     "output_type": "execute_result"
    },
    {
     "data": {
      "image/png": "[encoded data removed]",
      "text/plain": [
       "<Figure size 640x480 with 1 Axes>"
      ]
     },
     "metadata": {},
     "output_type": "display_data"
    }
   ],
   "source": [
    "plt.scatter(y_pred_train.transpose()[0],y_train)\n",
    "plt.scatter(y_pred_test.transpose()[0],y_test)\n",
    "plt.plot([0,1.4],[0,1.4],color = \"black\")\n"
   ]
  },
  {
   "cell_type": "code",
   "execution_count": 55,
   "id": "68177060-78a9-4f00-83e4-847665eb6146",
   "metadata": {},
   "outputs": [
    {
     "name": "stdout",
     "output_type": "stream",
     "text": [
      "10/10 [==============================] - 1s 103ms/step\n"
     ]
    }
   ],
   "source": [
    "y_pred_train_cnn = cnn_tax_model.predict(X_train)"
   ]
  },
  {
   "cell_type": "code",
   "execution_count": 56,
   "id": "6b709c8b-134c-42cb-988f-ad1074aafb5b",
   "metadata": {},
   "outputs": [
    {
     "name": "stdout",
     "output_type": "stream",
     "text": [
      "4/4 [==============================] - 0s 107ms/step\n"
     ]
    }
   ],
   "source": [
    "y_pred_test_cnn = cnn_tax_model.predict(X_test)"
   ]
  },
  {
   "cell_type": "code",
   "execution_count": 57,
   "id": "c38ed788-eff7-4c4b-a2a6-906016d5db7d",
   "metadata": {},
   "outputs": [
    {
     "data": {
      "text/plain": [
       "[<matplotlib.lines.Line2D at 0x1783843ac10>]"
      ]
     },
     "execution_count": 57,
     "metadata": {},
     "output_type": "execute_result"
    },
    {
     "data": {
      "image/png": "[encoded data removed]",
      "text/plain": [
       "<Figure size 432x288 with 1 Axes>"
      ]
     },
     "metadata": {
      "needs_background": "light"
     },
     "output_type": "display_data"
    }
   ],
   "source": [
    "plt.scatter(y_pred_train_cnn.transpose()[0],y_train)\n",
    "plt.scatter(y_pred_test_cnn.transpose()[0],y_test)\n",
    "plt.plot([0,1.4],[0,1.4],color = \"black\")"
   ]
  },
  {
   "cell_type": "code",
   "execution_count": 54,
   "id": "53d06f57-b799-47eb-9e7c-d45d7f59ad69",
   "metadata": {},
   "outputs": [
    {
     "data": {
      "text/plain": [
       "<matplotlib.legend.Legend at 0x17837ca2cd0>"
      ]
     },
     "execution_count": 54,
     "metadata": {},
     "output_type": "execute_result"
    },
    {
     "data": {
      "image/png": "[encoded data removed]",
      "text/plain": [
       "<Figure size 432x288 with 1 Axes>"
      ]
     },
     "metadata": {
      "needs_background": "light"
     },
     "output_type": "display_data"
    }
   ],
   "source": [
    "plt.plot(cnn_tax_history.history['mse'], label='mse')\n",
    "plt.plot(cnn_tax_history.history['val_mse'], label = 'val_mse')\n",
    "plt.xlabel('Epoch')\n",
    "plt.ylabel('Accuracy')\n",
    "plt.ylim([0.5, 0])\n",
    "plt.legend(loc='lower right')\n"
   ]
  },
  {
   "cell_type": "code",
   "execution_count": 58,
   "id": "c5f9e0b0-e3e5-4a10-84b3-1eda149e9b60",
   "metadata": {},
   "outputs": [
    {
     "name": "stderr",
     "output_type": "stream",
     "text": [
      "WARNING:absl:Found untraced functions such as _jit_compiled_convolution_op, _jit_compiled_convolution_op, _jit_compiled_convolution_op while saving (showing 3 of 3). These functions will not be directly callable after loading.\n"
     ]
    },
    {
     "name": "stdout",
     "output_type": "stream",
     "text": [
      "INFO:tensorflow:Assets written to: saved_model/cnn_class_model\\assets\n"
     ]
    },
    {
     "name": "stderr",
     "output_type": "stream",
     "text": [
      "INFO:tensorflow:Assets written to: saved_model/cnn_class_model\\assets\n"
     ]
    }
   ],
   "source": [
    "cnn_model.save(\"saved_model/cnn_class_model\")"
   ]
  },
  {
   "cell_type": "code",
   "execution_count": 34,
   "id": "0e90df3c-e418-4408-bf74-af3fc9b28456",
   "metadata": {},
   "outputs": [],
   "source": [
    "model_class = tf.keras.Sequential([\n",
    "    tf.keras.layers.Flatten(input_shape=(200, 200, 1)),\n",
    "    tf.keras.layers.Dense(256, activation = \"relu\"),\n",
    "    tf.keras.layers.Dense(128, activation = \"relu\"),\n",
    "    tf.keras.layers.Dense(64, activation = \"relu\"),\n",
    "    tf.keras.layers.Dense(32, activation = \"relu\"),\n",
    "    tf.keras.layers.Dense(16, activation = \"relu\"),\n",
    "    tf.keras.layers.Dense(4)\n",
    "])"
   ]
  },
  {
   "cell_type": "code",
   "execution_count": 35,
   "id": "642fe19f-21e0-4f29-a7ed-fa4dc003d6e6",
   "metadata": {},
   "outputs": [
    {
     "name": "stdout",
     "output_type": "stream",
     "text": [
      "Model: \"sequential_2\"\n",
      "_________________________________________________________________\n",
      " Layer (type)                Output Shape              Param #   \n",
      "=================================================================\n",
      " flatten_2 (Flatten)         (None, 40000)             0         \n",
      "                                                                 \n",
      " dense_12 (Dense)            (None, 256)               10240256  \n",
      "                                                                 \n",
      " dense_13 (Dense)            (None, 128)               32896     \n",
      "                                                                 \n",
      " dense_14 (Dense)            (None, 64)                8256      \n",
      "                                                                 \n",
      " dense_15 (Dense)            (None, 32)                2080      \n",
      "                                                                 \n",
      " dense_16 (Dense)            (None, 16)                528       \n",
      "                                                                 \n",
      " dense_17 (Dense)            (None, 4)                 68        \n",
      "                                                                 \n",
      "=================================================================\n",
      "Total params: 10,284,084\n",
      "Trainable params: 10,284,084\n",
      "Non-trainable params: 0\n",
      "_________________________________________________________________\n"
     ]
    }
   ],
   "source": [
    "model_class.summary()"
   ]
  },
  {
   "cell_type": "code",
   "execution_count": 21,
   "id": "3e14c4ae-ff9c-429b-ad6f-0f3cf565df6a",
   "metadata": {},
   "outputs": [],
   "source": [
    "X_train, X_test, y_train, y_test = train_test_split(dataset, \n",
    "                                                    classes, \n",
    "                                                    test_size=0.3)"
   ]
  },
  {
   "cell_type": "code",
   "execution_count": 42,
   "id": "accb952f-f78f-415f-a98c-99bd3aa93746",
   "metadata": {
    "collapsed": true,
    "jupyter": {
     "outputs_hidden": true
    },
    "tags": []
   },
   "outputs": [
    {
     "name": "stdout",
     "output_type": "stream",
     "text": [
      "Epoch 1/100\n",
      "30/30 [==============================] - 1s 32ms/step - loss: 1.3754 - accuracy: 0.4320 - val_loss: 1.3498 - val_accuracy: 0.4841\n",
      "Epoch 2/100\n",
      "30/30 [==============================] - 1s 25ms/step - loss: 1.3239 - accuracy: 0.4558 - val_loss: 1.2526 - val_accuracy: 0.4841\n",
      "Epoch 3/100\n",
      "30/30 [==============================] - 1s 25ms/step - loss: 1.2365 - accuracy: 0.4558 - val_loss: 1.1832 - val_accuracy: 0.4841\n",
      "Epoch 4/100\n",
      "30/30 [==============================] - 1s 25ms/step - loss: 1.1762 - accuracy: 0.4558 - val_loss: 1.1500 - val_accuracy: 0.4841\n",
      "Epoch 5/100\n",
      "30/30 [==============================] - 1s 26ms/step - loss: 1.1339 - accuracy: 0.4558 - val_loss: 1.1209 - val_accuracy: 0.4841\n",
      "Epoch 6/100\n",
      "30/30 [==============================] - 1s 26ms/step - loss: 1.0946 - accuracy: 0.4592 - val_loss: 1.0703 - val_accuracy: 0.4921\n",
      "Epoch 7/100\n",
      "30/30 [==============================] - 1s 26ms/step - loss: 1.0251 - accuracy: 0.5816 - val_loss: 1.0202 - val_accuracy: 0.5952\n",
      "Epoch 8/100\n",
      "30/30 [==============================] - 1s 25ms/step - loss: 0.9267 - accuracy: 0.6497 - val_loss: 0.9051 - val_accuracy: 0.6270\n",
      "Epoch 9/100\n",
      "30/30 [==============================] - 1s 25ms/step - loss: 0.8212 - accuracy: 0.6497 - val_loss: 0.8640 - val_accuracy: 0.6429\n",
      "Epoch 10/100\n",
      "30/30 [==============================] - 1s 25ms/step - loss: 0.7805 - accuracy: 0.6531 - val_loss: 0.8544 - val_accuracy: 0.6587\n",
      "Epoch 11/100\n",
      "30/30 [==============================] - 1s 25ms/step - loss: 0.7747 - accuracy: 0.6531 - val_loss: 0.8960 - val_accuracy: 0.6190\n",
      "Epoch 12/100\n",
      "30/30 [==============================] - 1s 25ms/step - loss: 0.7603 - accuracy: 0.6667 - val_loss: 0.8306 - val_accuracy: 0.6667\n",
      "Epoch 13/100\n",
      "30/30 [==============================] - 1s 25ms/step - loss: 0.7431 - accuracy: 0.6565 - val_loss: 0.8103 - val_accuracy: 0.6667\n",
      "Epoch 14/100\n",
      "30/30 [==============================] - 1s 25ms/step - loss: 0.7233 - accuracy: 0.6667 - val_loss: 0.8228 - val_accuracy: 0.6508\n",
      "Epoch 15/100\n",
      "30/30 [==============================] - 1s 30ms/step - loss: 0.7218 - accuracy: 0.6633 - val_loss: 0.8678 - val_accuracy: 0.6429\n",
      "Epoch 16/100\n",
      "30/30 [==============================] - 1s 25ms/step - loss: 0.7429 - accuracy: 0.6701 - val_loss: 0.8067 - val_accuracy: 0.6825\n",
      "Epoch 17/100\n",
      "30/30 [==============================] - 1s 25ms/step - loss: 0.7290 - accuracy: 0.6769 - val_loss: 0.8366 - val_accuracy: 0.6667\n",
      "Epoch 18/100\n",
      "30/30 [==============================] - 1s 26ms/step - loss: 0.7150 - accuracy: 0.6701 - val_loss: 0.8078 - val_accuracy: 0.6825\n",
      "Epoch 19/100\n",
      "30/30 [==============================] - 1s 25ms/step - loss: 0.6986 - accuracy: 0.6769 - val_loss: 0.7759 - val_accuracy: 0.6746\n",
      "Epoch 20/100\n",
      "30/30 [==============================] - 1s 25ms/step - loss: 0.6809 - accuracy: 0.6837 - val_loss: 0.8441 - val_accuracy: 0.6508\n",
      "Epoch 21/100\n",
      "30/30 [==============================] - 1s 25ms/step - loss: 0.6661 - accuracy: 0.7041 - val_loss: 0.7903 - val_accuracy: 0.6746\n",
      "Epoch 22/100\n",
      "30/30 [==============================] - 1s 25ms/step - loss: 0.6540 - accuracy: 0.7075 - val_loss: 0.7522 - val_accuracy: 0.6984\n",
      "Epoch 23/100\n",
      "30/30 [==============================] - 1s 25ms/step - loss: 0.6522 - accuracy: 0.7109 - val_loss: 0.7803 - val_accuracy: 0.7063\n",
      "Epoch 24/100\n",
      "30/30 [==============================] - 1s 25ms/step - loss: 0.6496 - accuracy: 0.7109 - val_loss: 0.7366 - val_accuracy: 0.6984\n",
      "Epoch 25/100\n",
      "30/30 [==============================] - 1s 25ms/step - loss: 0.6248 - accuracy: 0.7075 - val_loss: 0.8151 - val_accuracy: 0.6825\n",
      "Epoch 26/100\n",
      "30/30 [==============================] - 1s 26ms/step - loss: 0.6460 - accuracy: 0.7075 - val_loss: 0.7414 - val_accuracy: 0.6984\n",
      "Epoch 27/100\n",
      "30/30 [==============================] - 1s 26ms/step - loss: 0.6192 - accuracy: 0.7313 - val_loss: 0.7246 - val_accuracy: 0.7222\n",
      "Epoch 28/100\n",
      "30/30 [==============================] - 1s 26ms/step - loss: 0.6119 - accuracy: 0.7143 - val_loss: 0.7122 - val_accuracy: 0.7302\n",
      "Epoch 29/100\n",
      "30/30 [==============================] - 1s 27ms/step - loss: 0.6187 - accuracy: 0.7245 - val_loss: 0.7261 - val_accuracy: 0.7143\n",
      "Epoch 30/100\n",
      "30/30 [==============================] - 1s 28ms/step - loss: 0.6202 - accuracy: 0.7211 - val_loss: 0.7014 - val_accuracy: 0.6905\n",
      "Epoch 31/100\n",
      "30/30 [==============================] - 1s 25ms/step - loss: 0.6142 - accuracy: 0.7177 - val_loss: 0.8623 - val_accuracy: 0.6429\n",
      "Epoch 32/100\n",
      "30/30 [==============================] - 1s 25ms/step - loss: 0.6195 - accuracy: 0.7143 - val_loss: 0.6977 - val_accuracy: 0.6905\n",
      "Epoch 33/100\n",
      "30/30 [==============================] - 1s 25ms/step - loss: 0.5990 - accuracy: 0.7381 - val_loss: 0.7005 - val_accuracy: 0.7619\n",
      "Epoch 34/100\n",
      "30/30 [==============================] - 1s 25ms/step - loss: 0.5981 - accuracy: 0.7381 - val_loss: 0.7691 - val_accuracy: 0.6825\n",
      "Epoch 35/100\n",
      "30/30 [==============================] - 1s 25ms/step - loss: 0.5829 - accuracy: 0.7619 - val_loss: 0.6890 - val_accuracy: 0.7619\n",
      "Epoch 36/100\n",
      "30/30 [==============================] - 1s 26ms/step - loss: 0.5994 - accuracy: 0.7347 - val_loss: 0.7916 - val_accuracy: 0.6746\n",
      "Epoch 37/100\n",
      "30/30 [==============================] - 1s 25ms/step - loss: 0.5845 - accuracy: 0.7381 - val_loss: 0.6879 - val_accuracy: 0.7143\n",
      "Epoch 38/100\n",
      "30/30 [==============================] - 1s 25ms/step - loss: 0.6055 - accuracy: 0.7449 - val_loss: 0.6865 - val_accuracy: 0.7143\n",
      "Epoch 39/100\n",
      "30/30 [==============================] - 1s 25ms/step - loss: 0.5829 - accuracy: 0.7449 - val_loss: 0.8596 - val_accuracy: 0.6429\n",
      "Epoch 40/100\n",
      "30/30 [==============================] - 1s 25ms/step - loss: 0.5883 - accuracy: 0.7449 - val_loss: 0.7254 - val_accuracy: 0.7540\n",
      "Epoch 41/100\n",
      "30/30 [==============================] - 1s 25ms/step - loss: 0.6056 - accuracy: 0.7483 - val_loss: 0.7990 - val_accuracy: 0.6508\n",
      "Epoch 42/100\n",
      "30/30 [==============================] - 1s 25ms/step - loss: 0.5727 - accuracy: 0.7755 - val_loss: 0.7582 - val_accuracy: 0.6746\n",
      "Epoch 43/100\n",
      "30/30 [==============================] - 1s 25ms/step - loss: 0.6089 - accuracy: 0.7279 - val_loss: 0.7429 - val_accuracy: 0.6984\n",
      "Epoch 44/100\n",
      "30/30 [==============================] - 1s 25ms/step - loss: 0.5773 - accuracy: 0.7483 - val_loss: 0.6869 - val_accuracy: 0.7540\n",
      "Epoch 45/100\n",
      "30/30 [==============================] - 1s 26ms/step - loss: 0.5651 - accuracy: 0.7857 - val_loss: 0.7051 - val_accuracy: 0.7460\n",
      "Epoch 46/100\n",
      "30/30 [==============================] - 1s 26ms/step - loss: 0.5485 - accuracy: 0.7789 - val_loss: 0.6601 - val_accuracy: 0.7381\n",
      "Epoch 47/100\n",
      "30/30 [==============================] - 1s 25ms/step - loss: 0.5660 - accuracy: 0.7789 - val_loss: 0.8172 - val_accuracy: 0.6587\n",
      "Epoch 48/100\n",
      "30/30 [==============================] - 1s 26ms/step - loss: 0.5809 - accuracy: 0.7721 - val_loss: 0.6707 - val_accuracy: 0.7619\n",
      "Epoch 49/100\n",
      "30/30 [==============================] - 1s 25ms/step - loss: 0.5893 - accuracy: 0.7585 - val_loss: 0.6934 - val_accuracy: 0.7381\n",
      "Epoch 50/100\n",
      "30/30 [==============================] - 1s 25ms/step - loss: 0.5476 - accuracy: 0.8095 - val_loss: 0.7056 - val_accuracy: 0.7460\n",
      "Epoch 51/100\n",
      "30/30 [==============================] - 1s 26ms/step - loss: 0.5295 - accuracy: 0.8129 - val_loss: 0.7282 - val_accuracy: 0.7540\n",
      "Epoch 52/100\n",
      "30/30 [==============================] - 1s 25ms/step - loss: 0.5392 - accuracy: 0.7891 - val_loss: 0.7343 - val_accuracy: 0.7222\n",
      "Epoch 53/100\n",
      "30/30 [==============================] - 1s 25ms/step - loss: 0.5165 - accuracy: 0.8197 - val_loss: 0.8227 - val_accuracy: 0.7222\n",
      "Epoch 54/100\n",
      "30/30 [==============================] - 1s 25ms/step - loss: 0.5205 - accuracy: 0.8129 - val_loss: 0.7721 - val_accuracy: 0.7063\n",
      "Epoch 55/100\n",
      "30/30 [==============================] - 1s 28ms/step - loss: 0.5427 - accuracy: 0.7891 - val_loss: 0.6767 - val_accuracy: 0.7540\n",
      "Epoch 56/100\n",
      "30/30 [==============================] - 1s 25ms/step - loss: 0.5173 - accuracy: 0.7925 - val_loss: 0.7231 - val_accuracy: 0.7619\n",
      "Epoch 57/100\n",
      "30/30 [==============================] - 1s 25ms/step - loss: 0.5177 - accuracy: 0.8095 - val_loss: 0.6788 - val_accuracy: 0.7540\n",
      "Epoch 58/100\n",
      "30/30 [==============================] - 1s 25ms/step - loss: 0.5304 - accuracy: 0.7959 - val_loss: 0.6995 - val_accuracy: 0.7619\n",
      "Epoch 59/100\n",
      "30/30 [==============================] - 1s 25ms/step - loss: 0.4884 - accuracy: 0.8299 - val_loss: 0.6789 - val_accuracy: 0.7540\n",
      "Epoch 60/100\n",
      "30/30 [==============================] - 1s 25ms/step - loss: 0.4964 - accuracy: 0.8231 - val_loss: 0.6945 - val_accuracy: 0.7540\n",
      "Epoch 61/100\n",
      "30/30 [==============================] - 1s 26ms/step - loss: 0.4971 - accuracy: 0.8095 - val_loss: 0.7259 - val_accuracy: 0.7460\n",
      "Epoch 62/100\n",
      "30/30 [==============================] - 1s 25ms/step - loss: 0.5003 - accuracy: 0.8231 - val_loss: 0.7428 - val_accuracy: 0.7460\n",
      "Epoch 63/100\n",
      "30/30 [==============================] - 1s 25ms/step - loss: 0.4871 - accuracy: 0.8231 - val_loss: 0.6895 - val_accuracy: 0.7460\n",
      "Epoch 64/100\n",
      "30/30 [==============================] - 1s 25ms/step - loss: 0.6149 - accuracy: 0.7585 - val_loss: 0.6576 - val_accuracy: 0.7302\n",
      "Epoch 65/100\n",
      "30/30 [==============================] - 1s 25ms/step - loss: 0.5934 - accuracy: 0.7585 - val_loss: 0.7295 - val_accuracy: 0.7619\n",
      "Epoch 66/100\n",
      "30/30 [==============================] - 1s 25ms/step - loss: 0.4918 - accuracy: 0.8333 - val_loss: 0.7034 - val_accuracy: 0.7619\n",
      "Epoch 67/100\n",
      "30/30 [==============================] - 1s 25ms/step - loss: 0.4761 - accuracy: 0.8435 - val_loss: 0.6743 - val_accuracy: 0.7540\n",
      "Epoch 68/100\n",
      "30/30 [==============================] - 1s 25ms/step - loss: 0.4832 - accuracy: 0.8095 - val_loss: 0.7736 - val_accuracy: 0.7302\n",
      "Epoch 69/100\n",
      "30/30 [==============================] - 1s 26ms/step - loss: 0.4882 - accuracy: 0.8299 - val_loss: 0.6998 - val_accuracy: 0.7619\n",
      "Epoch 70/100\n",
      "30/30 [==============================] - 1s 25ms/step - loss: 0.4699 - accuracy: 0.8503 - val_loss: 0.6670 - val_accuracy: 0.7540\n",
      "Epoch 71/100\n",
      "30/30 [==============================] - 1s 25ms/step - loss: 0.4732 - accuracy: 0.8435 - val_loss: 0.6931 - val_accuracy: 0.7540\n",
      "Epoch 72/100\n",
      "30/30 [==============================] - 1s 25ms/step - loss: 0.5380 - accuracy: 0.8095 - val_loss: 0.7032 - val_accuracy: 0.7381\n",
      "Epoch 73/100\n",
      "30/30 [==============================] - 1s 25ms/step - loss: 0.4813 - accuracy: 0.8265 - val_loss: 0.7074 - val_accuracy: 0.7778\n",
      "Epoch 74/100\n",
      "30/30 [==============================] - 1s 25ms/step - loss: 0.4896 - accuracy: 0.8095 - val_loss: 0.6713 - val_accuracy: 0.7540\n",
      "Epoch 75/100\n",
      "30/30 [==============================] - 1s 25ms/step - loss: 0.4871 - accuracy: 0.8333 - val_loss: 0.8882 - val_accuracy: 0.6508\n",
      "Epoch 76/100\n",
      "30/30 [==============================] - 1s 26ms/step - loss: 0.5121 - accuracy: 0.7993 - val_loss: 0.6956 - val_accuracy: 0.7540\n",
      "Epoch 77/100\n",
      "30/30 [==============================] - 1s 25ms/step - loss: 0.4571 - accuracy: 0.8435 - val_loss: 0.6751 - val_accuracy: 0.7540\n",
      "Epoch 78/100\n",
      "30/30 [==============================] - 1s 25ms/step - loss: 0.4684 - accuracy: 0.8503 - val_loss: 0.7112 - val_accuracy: 0.7698\n",
      "Epoch 79/100\n",
      "30/30 [==============================] - 1s 25ms/step - loss: 0.4746 - accuracy: 0.8333 - val_loss: 0.7176 - val_accuracy: 0.7619\n",
      "Epoch 80/100\n",
      "30/30 [==============================] - 1s 25ms/step - loss: 0.4674 - accuracy: 0.8231 - val_loss: 0.7243 - val_accuracy: 0.7540\n",
      "Epoch 81/100\n",
      "30/30 [==============================] - 1s 25ms/step - loss: 0.4471 - accuracy: 0.8367 - val_loss: 0.7444 - val_accuracy: 0.7540\n",
      "Epoch 82/100\n",
      "30/30 [==============================] - 1s 25ms/step - loss: 0.4762 - accuracy: 0.8367 - val_loss: 0.6857 - val_accuracy: 0.7540\n",
      "Epoch 83/100\n",
      "30/30 [==============================] - 1s 25ms/step - loss: 0.4361 - accuracy: 0.8469 - val_loss: 0.6559 - val_accuracy: 0.7619\n",
      "Epoch 84/100\n",
      "30/30 [==============================] - 1s 25ms/step - loss: 0.4427 - accuracy: 0.8469 - val_loss: 0.7298 - val_accuracy: 0.7698\n",
      "Epoch 85/100\n",
      "30/30 [==============================] - 1s 25ms/step - loss: 0.4491 - accuracy: 0.8401 - val_loss: 0.7267 - val_accuracy: 0.7698\n",
      "Epoch 86/100\n",
      "30/30 [==============================] - 1s 25ms/step - loss: 0.4228 - accuracy: 0.8605 - val_loss: 0.6684 - val_accuracy: 0.7698\n",
      "Epoch 87/100\n",
      "30/30 [==============================] - 1s 25ms/step - loss: 0.5013 - accuracy: 0.8163 - val_loss: 0.7033 - val_accuracy: 0.7619\n",
      "Epoch 88/100\n",
      "30/30 [==============================] - 1s 25ms/step - loss: 0.4384 - accuracy: 0.8435 - val_loss: 0.7014 - val_accuracy: 0.7698\n",
      "Epoch 89/100\n",
      "30/30 [==============================] - 1s 26ms/step - loss: 0.4195 - accuracy: 0.8435 - val_loss: 0.6371 - val_accuracy: 0.7619\n",
      "Epoch 90/100\n",
      "30/30 [==============================] - 1s 27ms/step - loss: 0.4270 - accuracy: 0.8605 - val_loss: 0.6782 - val_accuracy: 0.7698\n",
      "Epoch 91/100\n",
      "30/30 [==============================] - 1s 25ms/step - loss: 0.4057 - accuracy: 0.8673 - val_loss: 0.7027 - val_accuracy: 0.7460\n",
      "Epoch 92/100\n",
      "30/30 [==============================] - 1s 25ms/step - loss: 0.4471 - accuracy: 0.8367 - val_loss: 0.7027 - val_accuracy: 0.7540\n",
      "Epoch 93/100\n",
      "30/30 [==============================] - 1s 25ms/step - loss: 0.4682 - accuracy: 0.8333 - val_loss: 0.6791 - val_accuracy: 0.7619\n",
      "Epoch 94/100\n",
      "30/30 [==============================] - 1s 25ms/step - loss: 0.4171 - accuracy: 0.8537 - val_loss: 0.6790 - val_accuracy: 0.7619\n",
      "Epoch 95/100\n",
      "30/30 [==============================] - 1s 25ms/step - loss: 0.4076 - accuracy: 0.8605 - val_loss: 0.6672 - val_accuracy: 0.7619\n",
      "Epoch 96/100\n",
      "30/30 [==============================] - 1s 25ms/step - loss: 0.4063 - accuracy: 0.8571 - val_loss: 0.6586 - val_accuracy: 0.7698\n",
      "Epoch 97/100\n",
      "30/30 [==============================] - 1s 29ms/step - loss: 0.4340 - accuracy: 0.8435 - val_loss: 0.6409 - val_accuracy: 0.7778\n",
      "Epoch 98/100\n",
      "30/30 [==============================] - 1s 25ms/step - loss: 0.4011 - accuracy: 0.8707 - val_loss: 0.6933 - val_accuracy: 0.7619\n",
      "Epoch 99/100\n",
      "30/30 [==============================] - 1s 25ms/step - loss: 0.3962 - accuracy: 0.8639 - val_loss: 0.7133 - val_accuracy: 0.7619\n",
      "Epoch 100/100\n",
      "30/30 [==============================] - 1s 25ms/step - loss: 0.4083 - accuracy: 0.8571 - val_loss: 0.6348 - val_accuracy: 0.7619\n"
     ]
    }
   ],
   "source": [
    "model_class.compile(optimizer='adam',\n",
    "              loss=tf.keras.losses.SparseCategoricalCrossentropy(from_logits=True),\n",
    "              metrics=['accuracy'])\n",
    "\n",
    "history_class = model_class.fit(X_train, y_train, epochs=100, batch_size = 10,\n",
    "                    validation_data=(X_test, y_test))"
   ]
  },
  {
   "cell_type": "code",
   "execution_count": 25,
   "id": "36db2af8-8431-4918-819b-8a463995aea8",
   "metadata": {},
   "outputs": [
    {
     "name": "stdout",
     "output_type": "stream",
     "text": [
      "Epoch 1/50\n",
      "30/30 [==============================] - 7s 209ms/step - loss: 1.0249 - accuracy: 0.5578 - val_loss: 0.6903 - val_accuracy: 0.6905\n",
      "Epoch 2/50\n",
      "30/30 [==============================] - 6s 205ms/step - loss: 0.6447 - accuracy: 0.7687 - val_loss: 0.5256 - val_accuracy: 0.7937\n",
      "Epoch 3/50\n",
      "30/30 [==============================] - 6s 206ms/step - loss: 0.5122 - accuracy: 0.7993 - val_loss: 0.5003 - val_accuracy: 0.7540\n",
      "Epoch 4/50\n",
      "30/30 [==============================] - 6s 206ms/step - loss: 0.4756 - accuracy: 0.8027 - val_loss: 0.5055 - val_accuracy: 0.8095\n",
      "Epoch 5/50\n",
      "30/30 [==============================] - 6s 204ms/step - loss: 0.4794 - accuracy: 0.8129 - val_loss: 0.5164 - val_accuracy: 0.7698\n",
      "Epoch 6/50\n",
      "30/30 [==============================] - 6s 206ms/step - loss: 0.4436 - accuracy: 0.8197 - val_loss: 0.3954 - val_accuracy: 0.8254\n",
      "Epoch 7/50\n",
      "30/30 [==============================] - 6s 210ms/step - loss: 0.3584 - accuracy: 0.8537 - val_loss: 0.4297 - val_accuracy: 0.8571\n",
      "Epoch 8/50\n",
      "30/30 [==============================] - 6s 204ms/step - loss: 0.3242 - accuracy: 0.8571 - val_loss: 0.2432 - val_accuracy: 0.8730\n",
      "Epoch 9/50\n",
      "30/30 [==============================] - 6s 208ms/step - loss: 0.2945 - accuracy: 0.8810 - val_loss: 0.2330 - val_accuracy: 0.9206\n",
      "Epoch 10/50\n",
      "30/30 [==============================] - 6s 207ms/step - loss: 0.2144 - accuracy: 0.9286 - val_loss: 0.2799 - val_accuracy: 0.8889\n",
      "Epoch 11/50\n",
      "30/30 [==============================] - 6s 208ms/step - loss: 0.3234 - accuracy: 0.8741 - val_loss: 0.4548 - val_accuracy: 0.7937\n",
      "Epoch 12/50\n",
      "30/30 [==============================] - 6s 209ms/step - loss: 0.2924 - accuracy: 0.8776 - val_loss: 0.5823 - val_accuracy: 0.7302\n",
      "Epoch 13/50\n",
      "30/30 [==============================] - 6s 206ms/step - loss: 0.3218 - accuracy: 0.8878 - val_loss: 0.2785 - val_accuracy: 0.8651\n",
      "Epoch 14/50\n",
      "30/30 [==============================] - 6s 207ms/step - loss: 0.1861 - accuracy: 0.9184 - val_loss: 0.4979 - val_accuracy: 0.8651\n",
      "Epoch 15/50\n",
      "30/30 [==============================] - 6s 207ms/step - loss: 0.2129 - accuracy: 0.9252 - val_loss: 0.2761 - val_accuracy: 0.8889\n",
      "Epoch 16/50\n",
      "30/30 [==============================] - 6s 205ms/step - loss: 0.2106 - accuracy: 0.9252 - val_loss: 0.1858 - val_accuracy: 0.9286\n",
      "Epoch 17/50\n",
      "30/30 [==============================] - 6s 208ms/step - loss: 0.2059 - accuracy: 0.9320 - val_loss: 0.2145 - val_accuracy: 0.9127\n",
      "Epoch 18/50\n",
      "30/30 [==============================] - 6s 207ms/step - loss: 0.2088 - accuracy: 0.9184 - val_loss: 0.1664 - val_accuracy: 0.9524\n",
      "Epoch 19/50\n",
      "30/30 [==============================] - 6s 209ms/step - loss: 0.1756 - accuracy: 0.9456 - val_loss: 0.8606 - val_accuracy: 0.8810\n",
      "Epoch 20/50\n",
      "30/30 [==============================] - 6s 206ms/step - loss: 0.3401 - accuracy: 0.9048 - val_loss: 0.2416 - val_accuracy: 0.8810\n",
      "Epoch 21/50\n",
      "30/30 [==============================] - 6s 206ms/step - loss: 0.2007 - accuracy: 0.9218 - val_loss: 0.1733 - val_accuracy: 0.9365\n",
      "Epoch 22/50\n",
      "30/30 [==============================] - 6s 206ms/step - loss: 0.1207 - accuracy: 0.9490 - val_loss: 0.1558 - val_accuracy: 0.9444\n",
      "Epoch 23/50\n",
      "30/30 [==============================] - 6s 208ms/step - loss: 0.1215 - accuracy: 0.9592 - val_loss: 0.1676 - val_accuracy: 0.9365\n",
      "Epoch 24/50\n",
      "30/30 [==============================] - 6s 204ms/step - loss: 0.1051 - accuracy: 0.9660 - val_loss: 0.2067 - val_accuracy: 0.9286\n",
      "Epoch 25/50\n",
      "30/30 [==============================] - 6s 206ms/step - loss: 0.1125 - accuracy: 0.9456 - val_loss: 0.1530 - val_accuracy: 0.9365\n",
      "Epoch 26/50\n",
      "30/30 [==============================] - 6s 212ms/step - loss: 0.1257 - accuracy: 0.9524 - val_loss: 0.2656 - val_accuracy: 0.8571\n",
      "Epoch 27/50\n",
      "30/30 [==============================] - 6s 211ms/step - loss: 0.1353 - accuracy: 0.9592 - val_loss: 0.2552 - val_accuracy: 0.8968\n",
      "Epoch 28/50\n",
      "30/30 [==============================] - 6s 208ms/step - loss: 0.1105 - accuracy: 0.9694 - val_loss: 0.1168 - val_accuracy: 0.9683\n",
      "Epoch 29/50\n",
      "30/30 [==============================] - 6s 204ms/step - loss: 0.0652 - accuracy: 0.9796 - val_loss: 0.2270 - val_accuracy: 0.9444\n",
      "Epoch 30/50\n",
      "30/30 [==============================] - 6s 212ms/step - loss: 0.1916 - accuracy: 0.9218 - val_loss: 0.3315 - val_accuracy: 0.8730\n",
      "Epoch 31/50\n",
      "30/30 [==============================] - 6s 211ms/step - loss: 0.1123 - accuracy: 0.9558 - val_loss: 0.1389 - val_accuracy: 0.9603\n",
      "Epoch 32/50\n",
      "30/30 [==============================] - 6s 207ms/step - loss: 0.0819 - accuracy: 0.9626 - val_loss: 0.7989 - val_accuracy: 0.8889\n",
      "Epoch 33/50\n",
      "30/30 [==============================] - 6s 205ms/step - loss: 0.2044 - accuracy: 0.9388 - val_loss: 0.2127 - val_accuracy: 0.9206\n",
      "Epoch 34/50\n",
      "30/30 [==============================] - 6s 205ms/step - loss: 0.0975 - accuracy: 0.9660 - val_loss: 0.1318 - val_accuracy: 0.9683\n",
      "Epoch 35/50\n",
      "30/30 [==============================] - 6s 209ms/step - loss: 0.0834 - accuracy: 0.9558 - val_loss: 0.2097 - val_accuracy: 0.9048\n",
      "Epoch 36/50\n",
      "30/30 [==============================] - 6s 205ms/step - loss: 0.0543 - accuracy: 0.9796 - val_loss: 0.1377 - val_accuracy: 0.9683\n",
      "Epoch 37/50\n",
      "30/30 [==============================] - 6s 205ms/step - loss: 0.0508 - accuracy: 0.9830 - val_loss: 0.0918 - val_accuracy: 0.9683\n",
      "Epoch 38/50\n",
      "30/30 [==============================] - 6s 206ms/step - loss: 0.0844 - accuracy: 0.9660 - val_loss: 0.1536 - val_accuracy: 0.9603\n",
      "Epoch 39/50\n",
      "30/30 [==============================] - 6s 206ms/step - loss: 0.0390 - accuracy: 0.9864 - val_loss: 0.1310 - val_accuracy: 0.9683\n",
      "Epoch 40/50\n",
      "30/30 [==============================] - 6s 207ms/step - loss: 0.0241 - accuracy: 0.9932 - val_loss: 0.3982 - val_accuracy: 0.8968\n",
      "Epoch 41/50\n",
      "30/30 [==============================] - 6s 206ms/step - loss: 0.1155 - accuracy: 0.9592 - val_loss: 0.2138 - val_accuracy: 0.8810\n",
      "Epoch 42/50\n",
      "30/30 [==============================] - 6s 205ms/step - loss: 0.0663 - accuracy: 0.9728 - val_loss: 0.1307 - val_accuracy: 0.9524\n",
      "Epoch 43/50\n",
      "30/30 [==============================] - 6s 207ms/step - loss: 0.0411 - accuracy: 0.9830 - val_loss: 0.1676 - val_accuracy: 0.9365\n",
      "Epoch 44/50\n",
      "30/30 [==============================] - 6s 206ms/step - loss: 0.0176 - accuracy: 0.9966 - val_loss: 0.1078 - val_accuracy: 0.9683\n",
      "Epoch 45/50\n",
      "30/30 [==============================] - 6s 208ms/step - loss: 0.0156 - accuracy: 0.9966 - val_loss: 0.2044 - val_accuracy: 0.9206\n",
      "Epoch 46/50\n",
      "30/30 [==============================] - 6s 206ms/step - loss: 0.0624 - accuracy: 0.9660 - val_loss: 0.1375 - val_accuracy: 0.9683\n",
      "Epoch 47/50\n",
      "30/30 [==============================] - 6s 206ms/step - loss: 0.0347 - accuracy: 0.9932 - val_loss: 0.1874 - val_accuracy: 0.9048\n",
      "Epoch 48/50\n",
      "30/30 [==============================] - 6s 208ms/step - loss: 0.0385 - accuracy: 0.9864 - val_loss: 0.2230 - val_accuracy: 0.9365\n",
      "Epoch 49/50\n",
      "30/30 [==============================] - 6s 205ms/step - loss: 0.0547 - accuracy: 0.9796 - val_loss: 0.2023 - val_accuracy: 0.9206\n",
      "Epoch 50/50\n",
      "30/30 [==============================] - 6s 206ms/step - loss: 0.0321 - accuracy: 0.9898 - val_loss: 0.0955 - val_accuracy: 0.9683\n"
     ]
    }
   ],
   "source": [
    "cnn_model.compile(optimizer='adam',\n",
    "              loss=tf.keras.losses.SparseCategoricalCrossentropy(from_logits=True),\n",
    "              metrics=['accuracy'])\n",
    "\n",
    "cnn_history = cnn_model.fit(X_train, y_train, epochs=50, batch_size = 10,\n",
    "                    validation_data=(X_test, y_test))"
   ]
  },
  {
   "cell_type": "code",
   "execution_count": 31,
   "id": "266f486a-805f-4ffd-9bba-7caa51c981ef",
   "metadata": {},
   "outputs": [
    {
     "data": {
      "text/plain": [
       "<matplotlib.legend.Legend at 0x1783bcfaa00>"
      ]
     },
     "execution_count": 31,
     "metadata": {},
     "output_type": "execute_result"
    },
    {
     "data": {
      "image/png": "[encoded data removed]",
      "text/plain": [
       "<Figure size 432x288 with 1 Axes>"
      ]
     },
     "metadata": {
      "needs_background": "light"
     },
     "output_type": "display_data"
    }
   ],
   "source": [
    "plt.plot(cnn_history.history['accuracy'], label='accuracy')\n",
    "plt.plot(cnn_history.history['val_accuracy'], label = 'val_accuracy')\n",
    "plt.xlabel('Epoch')\n",
    "plt.ylabel('Accuracy')\n",
    "plt.ylim([0.5, 1])\n",
    "plt.legend(loc='lower right')\n",
    "\n"
   ]
  },
  {
   "cell_type": "code",
   "execution_count": 27,
   "id": "c3338991-5797-4566-8200-444e2de8845f",
   "metadata": {},
   "outputs": [
    {
     "name": "stdout",
     "output_type": "stream",
     "text": [
      "10/10 [==============================] - 1s 100ms/step\n"
     ]
    }
   ],
   "source": [
    "y_train_pred = cnn_model.predict(X_train)\n",
    "y_train_classes = y_train_pred.argmax(axis = -1)\n",
    "cm_train = tf.math.confusion_matrix(y_train,y_train_classes, num_classes = 4)"
   ]
  },
  {
   "cell_type": "code",
   "execution_count": 28,
   "id": "53676484-52c6-4cbc-ae9c-7499089cd3df",
   "metadata": {},
   "outputs": [
    {
     "name": "stdout",
     "output_type": "stream",
     "text": [
      "4/4 [==============================] - 0s 109ms/step\n"
     ]
    }
   ],
   "source": [
    "y_prediction = cnn_model.predict(X_test)\n",
    "y_classes = y_prediction.argmax(axis=-1)\n",
    "cm=tf.math.confusion_matrix(y_test,y_classes, num_classes = 4)"
   ]
  },
  {
   "cell_type": "code",
   "execution_count": 29,
   "id": "2ba6cf31-942a-43bf-820d-478f31e322f4",
   "metadata": {},
   "outputs": [
    {
     "data": {
      "text/plain": [
       "Text(0.5, 24.0, 'Predicted')"
      ]
     },
     "execution_count": 29,
     "metadata": {},
     "output_type": "execute_result"
    },
    {
     "data": {
      "image/png": "[encoded data removed]",
      "text/plain": [
       "<Figure size 504x360 with 2 Axes>"
      ]
     },
     "metadata": {
      "needs_background": "light"
     },
     "output_type": "display_data"
    }
   ],
   "source": [
    "import seaborn as sns\n",
    "fig, ax = plt.subplots(figsize = (7,5))\n",
    "sns.heatmap(cm, annot = True, xticklabels = ['Actinobacteria', 'Alphaproteobacteria', 'Bacilli','Gammaproteobacteria'], yticklabels = ['Actinobacteria', 'Alphaproteobacteria', 'Bacilli', 'Gammaproteobacteria'])\n",
    "ax.set_title(\"Results on Test set\")\n",
    "ax.set_ylabel(\"True\")\n",
    "ax.set_xlabel(\"Predicted\")\n"
   ]
  },
  {
   "cell_type": "code",
   "execution_count": null,
   "id": "a55dce89-df23-4cd5-b04c-d5a2d44f7648",
   "metadata": {},
   "outputs": [],
   "source": []
  },
  {
   "cell_type": "code",
   "execution_count": 30,
   "id": "6421d7b4-5fe2-4017-92d6-1faa43b9797e",
   "metadata": {},
   "outputs": [
    {
     "data": {
      "text/plain": [
       "Text(0.5, 24.0, 'Predicted')"
      ]
     },
     "execution_count": 30,
     "metadata": {},
     "output_type": "execute_result"
    },
    {
     "data": {
      "image/png": "[encoded data removed]",
      "text/plain": [
       "<Figure size 504x360 with 2 Axes>"
      ]
     },
     "metadata": {
      "needs_background": "light"
     },
     "output_type": "display_data"
    }
   ],
   "source": [
    "fig, ax = plt.subplots(figsize = (7,5))\n",
    "sns.heatmap(cm_train, annot = True, xticklabels = ['Actinobacteria', 'Alphaproteobacteria', 'Bacilli','Gammaproteobacteria'], yticklabels = ['Actinobacteria', 'Alphaproteobacteria', 'Bacilli', 'Gammaproteobacteria'])\n",
    "ax.set_title(\"Results on Train set\")\n",
    "ax.set_ylabel(\"True\")\n",
    "ax.set_xlabel(\"Predicted\")"
   ]
  },
  {
   "cell_type": "code",
   "execution_count": 54,
   "id": "85a91d29-928f-42ee-a442-befbd23ec414",
   "metadata": {},
   "outputs": [
    {
     "name": "stdout",
     "output_type": "stream",
     "text": [
      "INFO:tensorflow:Assets written to: saved_model/class_model\\assets\n"
     ]
    }
   ],
   "source": [
    "model_class.save(\"saved_model/class_model\")"
   ]
  },
  {
   "cell_type": "code",
   "execution_count": null,
   "id": "5a11a6b5-b5e2-4fdc-980b-524120a3e433",
   "metadata": {},
   "outputs": [],
   "source": []
  }
 ],
 "metadata": {
  "kernelspec": {
   "display_name": "Python 3 (ipykernel)",
   "language": "python",
   "name": "python3"
  },
  "language_info": {
   "codemirror_mode": {
    "name": "ipython",
    "version": 3
   },
   "file_extension": ".py",
   "mimetype": "text/x-python",
   "name": "python",
   "nbconvert_exporter": "python",
   "pygments_lexer": "ipython3",
   "version": "3.8.13"
  }
 },
 "nbformat": 4,
 "nbformat_minor": 5
}
